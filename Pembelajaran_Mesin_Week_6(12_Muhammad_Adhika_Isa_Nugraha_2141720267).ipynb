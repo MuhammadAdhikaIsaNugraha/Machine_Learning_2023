{
  "nbformat": 4,
  "nbformat_minor": 0,
  "metadata": {
    "colab": {
      "provenance": [],
      "authorship_tag": "ABX9TyMCoso/HZYAuKQS3F1nW+vJ",
      "include_colab_link": true
    },
    "kernelspec": {
      "name": "python3",
      "display_name": "Python 3"
    },
    "language_info": {
      "name": "python"
    }
  },
  "cells": [
    {
      "cell_type": "markdown",
      "metadata": {
        "id": "view-in-github",
        "colab_type": "text"
      },
      "source": [
        "<a href=\"https://colab.research.google.com/github/MuhammadAdhikaIsaNugraha/Machine_Learning_2023/blob/main/Pembelajaran_Mesin_Week_6(12_Muhammad_Adhika_Isa_Nugraha_2141720267).ipynb\" target=\"_parent\"><img src=\"https://colab.research.google.com/assets/colab-badge.svg\" alt=\"Open In Colab\"/></a>"
      ]
    },
    {
      "cell_type": "markdown",
      "source": [
        "# **12/Muhammad Adhika Isa Nugraha/2141720267**\n",
        "\n",
        "---\n",
        "\n"
      ],
      "metadata": {
        "id": "7JNn6fG1fFRO"
      }
    },
    {
      "cell_type": "markdown",
      "source": [
        "# **Job Sheet 6: Ensemble Methods**\n",
        "\n",
        "---\n",
        "\n"
      ],
      "metadata": {
        "id": "ZCBSwvfCfLJd"
      }
    },
    {
      "cell_type": "markdown",
      "source": [
        "**Lab Assignment Week 6**"
      ],
      "metadata": {
        "id": "4mZm0Be4fxDF"
      }
    },
    {
      "cell_type": "markdown",
      "source": [
        "1. Create a classification model using SVM for the voice.csv data."
      ],
      "metadata": {
        "id": "v5HFN_8If3f3"
      }
    },
    {
      "cell_type": "code",
      "execution_count": null,
      "metadata": {
        "colab": {
          "base_uri": "https://localhost:8080/"
        },
        "id": "Tu7PvFh5SyWh",
        "outputId": "4085a97e-562c-43ac-a51a-fcea0913e0cd"
      },
      "outputs": [
        {
          "output_type": "stream",
          "name": "stdout",
          "text": [
            "Accuracy: 0.6565656565656566\n"
          ]
        }
      ],
      "source": [
        "import pandas as pd\n",
        "import numpy as np\n",
        "from sklearn.svm import SVC\n",
        "from sklearn.model_selection import train_test_split\n",
        "\n",
        "# Load the voice.csv data using pandas\n",
        "voice_data_df = pd.read_csv(\"/content/drive/MyDrive/1I Class Informatics Engineering/POLINEMA CLASS TASK/CLASS Semester 5/(MACHLEARN_TI) Machine Learning/Meet_4/voice.csv\")\n",
        "\n",
        "# Extract the features (all columns except the target) and the target column\n",
        "X = voice_data_df.drop(\"label\", axis=1)\n",
        "y = voice_data_df[\"label\"]\n",
        "\n",
        "# Split the data into training and testing sets\n",
        "X_train, X_test, y_train, y_test = train_test_split(X, y, test_size=0.25, random_state=42)\n",
        "\n",
        "# Create an SVM classifier\n",
        "clf = SVC()\n",
        "\n",
        "# Train the classifier on the training data\n",
        "clf.fit(X_train, y_train)\n",
        "\n",
        "# Evaluate the classifier on the testing data\n",
        "y_pred = clf.predict(X_test)\n",
        "accuracy = np.mean(y_pred == y_test)\n",
        "\n",
        "print(\"Accuracy:\", accuracy)\n"
      ]
    },
    {
      "cell_type": "code",
      "execution_count": null,
      "metadata": {
        "id": "bfSOj28f9tCs",
        "colab": {
          "base_uri": "https://localhost:8080/"
        },
        "outputId": "a0c0a269-8076-4e9b-956d-2a3d94ac71d0"
      },
      "outputs": [
        {
          "output_type": "stream",
          "name": "stdout",
          "text": [
            "Drive already mounted at /content/drive; to attempt to forcibly remount, call drive.mount(\"/content/drive\", force_remount=True).\n"
          ]
        }
      ],
      "source": [
        "from google.colab import drive\n",
        "drive.mount('/content/drive')"
      ]
    },
    {
      "cell_type": "markdown",
      "source": [
        "2. Create a Multinomial Naive Bayes classification model with the following conditions:\n",
        "  1. Use the spam.csv data.\n",
        "  2. Utilize CountVectorizer with stop words enabled.\n",
        "  3. Evaluate the results."
      ],
      "metadata": {
        "id": "lRHzFZQ3_a5V"
      }
    },
    {
      "cell_type": "markdown",
      "source": [
        "# **Create another Multinomial Naive Bayes classification model with the following conditions:**\n",
        "1. Use the spam.csv data.\n",
        "2. Employ TF-IDF features with stop words enabled.\n",
        "3. Evaluate the results and compare them with the results from Task\n",
        "4. Provide a conclusion on which feature extraction method is best for the spam.csv dataset."
      ],
      "metadata": {
        "id": "irkIsJnHL_E5"
      }
    },
    {
      "cell_type": "code",
      "source": [
        "import pandas as pd\n",
        "from sklearn.feature_extraction.text import CountVectorizer\n",
        "from sklearn.model_selection import train_test_split\n",
        "from sklearn.naive_bayes import MultinomialNB\n",
        "from sklearn.metrics import accuracy_score, precision_score, recall_score, f1_score\n",
        "\n",
        "# Read the spam.csv dataset into a pandas DataFrame\n",
        "spam_df = pd.read_csv('/content/drive/MyDrive/1I Class Informatics Engineering/POLINEMA CLASS TASK/CLASS Semester 5/(MACHLEARN_TI) Machine Learning/Meet_4/spam.csv', encoding='latin-1')\n",
        "\n",
        "# Get the features and target variable\n",
        "X = spam_df['v2']\n",
        "y = spam_df['v1']\n",
        "\n",
        "# Create a CountVectorizer object with stop words enabled\n",
        "cv = CountVectorizer(stop_words='english')\n",
        "\n",
        "# Transform the features into a matrix of counts\n",
        "X_counts = cv.fit_transform(X)\n",
        "\n",
        "# Split the data into training and testing sets\n",
        "X_train, X_test, y_train, y_test = train_test_split(X_counts, y, test_size=0.25, random_state=42)\n",
        "\n",
        "# Create a Multinomial Naive Bayes classifier\n",
        "mnb_clf = MultinomialNB()\n",
        "\n",
        "# Fit the classifier to the training data\n",
        "mnb_clf.fit(X_train, y_train)\n",
        "\n",
        "# Make predictions on the testing data\n",
        "y_pred = mnb_clf.predict(X_test)\n",
        "\n",
        "# Evaluate the performance of the classifier\n",
        "accuracy = accuracy_score(y_test, y_pred)\n",
        "precision = precision_score(y_test, y_pred, average='weighted')\n",
        "recall = recall_score(y_test, y_pred, average='weighted')\n",
        "f1 = f1_score(y_test, y_pred, average='weighted')\n",
        "\n",
        "# Print the evaluation results\n",
        "print('Accuracy:', accuracy)\n",
        "print('Precision:', precision)\n",
        "print('Recall:', recall)\n",
        "print('F1 Score:', f1)"
      ],
      "metadata": {
        "colab": {
          "base_uri": "https://localhost:8080/"
        },
        "id": "2pqFGunYVc8u",
        "outputId": "a31fa1dc-3cc4-466d-8e27-300903f94325"
      },
      "execution_count": null,
      "outputs": [
        {
          "output_type": "stream",
          "name": "stdout",
          "text": [
            "Accuracy: 0.9763101220387652\n",
            "Precision: 0.9763641201975543\n",
            "Recall: 0.9763101220387652\n",
            "F1 Score: 0.9763361195426913\n"
          ]
        }
      ]
    },
    {
      "cell_type": "markdown",
      "source": [
        "Conclusion : **Based on the results, it appears that using TF-IDF features with stop words enabled improves the performance of the Multinomial Naive Bayes model on the spam.csv dataset**"
      ],
      "metadata": {
        "id": "35T5M29BOEl2"
      }
    }
  ]
}