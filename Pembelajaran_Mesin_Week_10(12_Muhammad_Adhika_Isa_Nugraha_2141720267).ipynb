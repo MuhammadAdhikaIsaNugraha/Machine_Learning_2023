{
  "nbformat": 4,
  "nbformat_minor": 0,
  "metadata": {
    "colab": {
      "provenance": [],
      "authorship_tag": "ABX9TyOtZkj12npuYh/N/aeqUM6h",
      "include_colab_link": true
    },
    "kernelspec": {
      "name": "python3",
      "display_name": "Python 3"
    },
    "language_info": {
      "name": "python"
    }
  },
  "cells": [
    {
      "cell_type": "markdown",
      "metadata": {
        "id": "view-in-github",
        "colab_type": "text"
      },
      "source": [
        "<a href=\"https://colab.research.google.com/github/MuhammadAdhikaIsaNugraha/Machine_Learning_2023/blob/main/Pembelajaran_Mesin_Week_10(12_Muhammad_Adhika_Isa_Nugraha_2141720267).ipynb\" target=\"_parent\"><img src=\"https://colab.research.google.com/assets/colab-badge.svg\" alt=\"Open In Colab\"/></a>"
      ]
    },
    {
      "cell_type": "markdown",
      "source": [
        "# **12/Muhammad Adhika Isa Nugraha/2141720267**\n",
        "\n",
        "---\n",
        "\n"
      ],
      "metadata": {
        "id": "7JNn6fG1fFRO"
      }
    },
    {
      "cell_type": "markdown",
      "source": [
        "# **Job Sheet 10: Recurrent Neural Network (RNN)**\n",
        "\n",
        "---\n",
        "\n"
      ],
      "metadata": {
        "id": "ZCBSwvfCfLJd"
      }
    },
    {
      "cell_type": "markdown",
      "source": [
        "# Lab Assignment Week 10\n",
        "Custom Training Step (train_step method):"
      ],
      "metadata": {
        "id": "Qh6XRNMvARaU"
      }
    },
    {
      "cell_type": "code",
      "source": [
        "class CustomTraining(MyModel):\n",
        "    @tf.function\n",
        "    def train_step(self, inputs):\n",
        "        inputs, labels = inputs\n",
        "        with tf.GradientTape() as tape:\n",
        "            predictions = self(inputs, training=True)\n",
        "            loss = self.loss(labels, predictions)\n",
        "        grads = tape.gradient(loss, model.trainable_variables)\n",
        "        self.optimizer.apply_gradients(zip(grads, model.trainable_variables))\n",
        "\n",
        "        return {'loss': loss}"
      ],
      "metadata": {
        "id": "t_X-PbTog9cy"
      },
      "execution_count": null,
      "outputs": []
    }
  ]
}