{
  "nbformat": 4,
  "nbformat_minor": 0,
  "metadata": {
    "colab": {
      "provenance": [],
      "authorship_tag": "ABX9TyNJBbx22w/fu5iWVawmnaP0",
      "include_colab_link": true
    },
    "kernelspec": {
      "name": "python3",
      "display_name": "Python 3"
    },
    "language_info": {
      "name": "python"
    }
  },
  "cells": [
    {
      "cell_type": "markdown",
      "metadata": {
        "id": "view-in-github",
        "colab_type": "text"
      },
      "source": [
        "<a href=\"https://colab.research.google.com/github/MuhammadAdhikaIsaNugraha/Machine_Learning_2023/blob/main/Pembelajaran_Mesin_Week_11(12_Muhammad_Adhika_Isa_Nugraha_2141720267).ipynb\" target=\"_parent\"><img src=\"https://colab.research.google.com/assets/colab-badge.svg\" alt=\"Open In Colab\"/></a>"
      ]
    },
    {
      "cell_type": "markdown",
      "source": [
        "# **12/Muhammad Adhika Isa Nugraha/2141720267**\n",
        "\n",
        "---\n",
        "\n"
      ],
      "metadata": {
        "id": "7JNn6fG1fFRO"
      }
    },
    {
      "cell_type": "markdown",
      "source": [
        "# **Job Sheet 11: Convolutional Neural Network (CNN)**\n",
        "\n",
        "---\n",
        "\n"
      ],
      "metadata": {
        "id": "ZCBSwvfCfLJd"
      }
    },
    {
      "cell_type": "markdown",
      "source": [
        "# Lab Assignment Week 11\n",
        "1. Modifikasi model CNN pada praktikum 2 sehingga didapatkan akurasi testing lebih dari 80%.\n",
        "2. Buatlah model CNN untuk klasifikasi dataset MNIST."
      ],
      "metadata": {
        "id": "Qh6XRNMvARaU"
      }
    },
    {
      "cell_type": "code",
      "source": [],
      "metadata": {
        "id": "tVciDyDZCek7"
      },
      "execution_count": null,
      "outputs": []
    }
  ]
}