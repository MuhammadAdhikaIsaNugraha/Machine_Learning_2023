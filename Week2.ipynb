{
  "nbformat": 4,
  "nbformat_minor": 0,
  "metadata": {
    "colab": {
      "provenance": [],
      "authorship_tag": "ABX9TyMHUyf1S+fRhphrcwk5i3O2",
      "include_colab_link": true
    },
    "kernelspec": {
      "name": "python3",
      "display_name": "Python 3"
    },
    "language_info": {
      "name": "python"
    }
  },
  "cells": [
    {
      "cell_type": "markdown",
      "metadata": {
        "id": "view-in-github",
        "colab_type": "text"
      },
      "source": [
        "<a href=\"https://colab.research.google.com/github/MuhammadAdhikaIsaNugraha/Machine_Learning_2023/blob/main/Week2.ipynb\" target=\"_parent\"><img src=\"https://colab.research.google.com/assets/colab-badge.svg\" alt=\"Open In Colab\"/></a>"
      ]
    },
    {
      "cell_type": "markdown",
      "source": [
        "# **Lab Work 1**\n",
        "\n",
        "---\n",
        "\n"
      ],
      "metadata": {
        "id": "PS1mp1NV3Ozy"
      }
    },
    {
      "cell_type": "markdown",
      "source": [
        "**Step 1 - Load Data**"
      ],
      "metadata": {
        "id": "1Ei4uS5V3oLr"
      }
    },
    {
      "cell_type": "code",
      "execution_count": null,
      "metadata": {
        "id": "s6EjUP3P2HOz"
      },
      "outputs": [],
      "source": [
        "import pandas as pd\n",
        "\n",
        "data = 'Training-Dataset.csv' # path dataset\n",
        "df = pd.read_csv(data) # load dataset"
      ]
    }
  ]
}