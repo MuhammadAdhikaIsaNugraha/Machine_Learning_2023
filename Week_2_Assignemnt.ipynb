{
  "nbformat": 4,
  "nbformat_minor": 0,
  "metadata": {
    "colab": {
      "provenance": [],
      "authorship_tag": "ABX9TyOBA3kkVwYrQRqr/O9qzLjU",
      "include_colab_link": true
    },
    "kernelspec": {
      "name": "python3",
      "display_name": "Python 3"
    },
    "language_info": {
      "name": "python"
    }
  },
  "cells": [
    {
      "cell_type": "markdown",
      "metadata": {
        "id": "view-in-github",
        "colab_type": "text"
      },
      "source": [
        "<a href=\"https://colab.research.google.com/github/MuhammadAdhikaIsaNugraha/Machine_Learning_2023/blob/main/Week_2_Assignemnt.ipynb\" target=\"_parent\"><img src=\"https://colab.research.google.com/assets/colab-badge.svg\" alt=\"Open In Colab\"/></a>"
      ]
    },
    {
      "cell_type": "markdown",
      "source": [
        "# **Lab Assignment**\n",
        "\n",
        "\n",
        "---\n",
        "\n"
      ],
      "metadata": {
        "id": "9-aravA1_10c"
      }
    },
    {
      "cell_type": "markdown",
      "source": [
        "In this practical assignment, you will be using the \"Wisconsin Breast Cancer\" dataset. The dataset consists of 569 instances used for diagnosing Malignant (M) and Benign (B) cancer types. Your tasks are as follows:\n",
        "\n",
        "1. Separate the variables that can be used and the ones that cannot be used.\n",
        "2. Perform encoding on the \"diagnosis\" column.\n",
        "3. Standardize all columns with numeric values.\n",
        "4. Perform a stratified split of the data to create training and test data with an 80:20 ratio."
      ],
      "metadata": {
        "id": "KltpB2wb_-em"
      }
    },
    {
      "cell_type": "markdown",
      "source": [
        "> 1. Separate the variables that can be used and the ones that cannot be used.\n"
      ],
      "metadata": {
        "id": "kJfOX6y3AVuD"
      }
    },
    {
      "cell_type": "code",
      "source": [
        "import numpy as np\n",
        "import pandas as pd\n",
        "from sklearn.preprocessing import LabelEncoder\n",
        "from sklearn.preprocessing import normalize\n",
        "from sklearn.preprocessing import StandardScaler\n",
        "from sklearn.model_selection import train_test_split\n",
        "\n",
        "data = '/content/wbc.csv' # path dataset\n",
        "df = pd.read_csv(data) # load datas"
      ],
      "metadata": {
        "id": "o7W9I9cpAk8d"
      },
      "execution_count": 24,
      "outputs": []
    },
    {
      "cell_type": "code",
      "source": [
        "# Get the list of variables\n",
        "variables = list(df.columns)\n",
        "\n",
        "# Remove the ID number and diagnosis variables\n",
        "variables_to_use = [variable for variable in variables if variable not in [\"ID\", \"diagnosis\"]]\n",
        "\n",
        "print(variables_to_use)"
      ],
      "metadata": {
        "id": "WIYudaVABB06",
        "colab": {
          "base_uri": "https://localhost:8080/"
        },
        "outputId": "bc6d1455-4b1b-48a0-bab3-da035285693e"
      },
      "execution_count": 25,
      "outputs": [
        {
          "output_type": "stream",
          "name": "stdout",
          "text": [
            "['id', 'radius_mean', 'texture_mean', 'perimeter_mean', 'area_mean', 'smoothness_mean', 'compactness_mean', 'concavity_mean', 'concave points_mean', 'symmetry_mean', 'fractal_dimension_mean', 'radius_se', 'texture_se', 'perimeter_se', 'area_se', 'smoothness_se', 'compactness_se', 'concavity_se', 'concave points_se', 'symmetry_se', 'fractal_dimension_se', 'radius_worst', 'texture_worst', 'perimeter_worst', 'area_worst', 'smoothness_worst', 'compactness_worst', 'concavity_worst', 'concave points_worst', 'symmetry_worst', 'fractal_dimension_worst', 'Unnamed: 32']\n"
          ]
        }
      ]
    },
    {
      "cell_type": "markdown",
      "source": [
        "> 2. Perform encoding on the \"diagnosis\" column.\n"
      ],
      "metadata": {
        "id": "HPLMw82YAflk"
      }
    },
    {
      "cell_type": "code",
      "source": [
        "diagnosis = df[\"diagnosis\"]\n",
        "\n",
        "# Create a label encoder object.\n",
        "le = LabelEncoder()\n",
        "\n",
        "# Fit the label encoder to the \"diagnosis\" column.\n",
        "le.fit(diagnosis)\n",
        "\n",
        "# Transform the \"diagnosis\" column using the label encoder.\n",
        "diagnosis_encoded = le.transform(diagnosis)\n",
        "\n",
        "#Print the encoded \"diagnosis\" column.\n",
        "print(diagnosis_encoded)"
      ],
      "metadata": {
        "id": "-Rz9sFsaK77z",
        "outputId": "b11fdd2a-f375-4b53-9331-089c22358d81",
        "colab": {
          "base_uri": "https://localhost:8080/"
        }
      },
      "execution_count": 26,
      "outputs": [
        {
          "output_type": "stream",
          "name": "stdout",
          "text": [
            "[1 1 1 1 1 1 1 1 1 1 1 1 1 1 1 1 1 1 1 0 0 0 1 1 1 1 1 1 1 1 1 1 1 1 1 1 1\n",
            " 0 1 1 1 1 1 1 1 1 0 1 0 0 0 0 0 1 1 0 1 1 0 0 0 0 1 0 1 1 0 0 0 0 1 0 1 1\n",
            " 0 1 0 1 1 0 0 0 1 1 0 1 1 1 0 0 0 1 0 0 1 1 0 0 0 1 1 0 0 0 0 1 0 0 1 0 0\n",
            " 0 0 0 0 0 0 1 1 1 0 1 1 0 0 0 1 1 0 1 0 1 1 0 1 1 0 0 1 0 0 1 0 0 0 0 1 0\n",
            " 0 0 0 0 0 0 0 0 1 0 0 0 0 1 1 0 1 0 0 1 1 0 0 1 1 0 0 0 0 1 0 0 1 1 1 0 1\n",
            " 0 1 0 0 0 1 0 0 1 1 0 1 1 1 1 0 1 1 1 0 1 0 1 0 0 1 0 1 1 1 1 0 0 1 1 0 0\n",
            " 0 1 0 0 0 0 0 1 1 0 0 1 0 0 1 1 0 1 0 0 0 0 1 0 0 0 0 0 1 0 1 1 1 1 1 1 1\n",
            " 1 1 1 1 1 1 1 0 0 0 0 0 0 1 0 1 0 0 1 0 0 1 0 1 1 0 0 0 0 0 0 0 0 0 0 0 0\n",
            " 0 1 0 0 1 0 1 0 0 0 0 0 0 0 0 0 0 0 0 0 0 1 0 0 0 1 0 1 0 0 0 0 1 1 1 0 0\n",
            " 0 0 1 0 1 0 1 0 0 0 1 0 0 0 0 0 0 0 1 1 1 0 0 0 0 0 0 0 0 0 0 0 1 1 0 1 1\n",
            " 1 0 1 1 0 0 0 0 0 1 0 0 0 0 0 1 0 0 0 1 0 0 1 1 0 0 0 0 0 0 1 0 0 0 0 0 0\n",
            " 0 1 0 0 0 0 0 1 0 0 1 0 0 0 0 0 0 0 0 0 0 0 0 1 0 1 1 0 1 0 0 0 0 0 1 0 0\n",
            " 1 0 1 0 0 1 0 1 0 0 0 0 0 0 0 0 1 1 0 0 0 0 0 0 1 0 0 0 0 0 0 0 0 0 0 1 0\n",
            " 0 0 0 0 0 0 1 0 1 0 0 1 0 0 0 0 0 1 1 0 1 0 1 0 0 0 0 0 1 0 0 1 0 1 0 1 1\n",
            " 0 0 0 1 0 0 0 0 0 0 0 0 0 0 0 1 0 1 1 0 0 0 0 0 0 0 0 0 0 0 0 0 0 0 0 0 0\n",
            " 0 0 0 0 0 0 0 1 1 1 1 1 1 0]\n"
          ]
        }
      ]
    },
    {
      "cell_type": "markdown",
      "source": [
        "> 3. Standardize all columns with numeric values.\n"
      ],
      "metadata": {
        "id": "slwf17j4Agfx"
      }
    },
    {
      "cell_type": "code",
      "source": [],
      "metadata": {
        "id": "iAz4IX_HK84O"
      },
      "execution_count": null,
      "outputs": []
    },
    {
      "cell_type": "markdown",
      "source": [
        "> 4. Perform a stratified split of the data to create training and test data with an 80:20 ratio."
      ],
      "metadata": {
        "id": "geIpr4vRAhUj"
      }
    },
    {
      "cell_type": "code",
      "source": [
        "# Split data training dan dan lainnya\n",
        "# data lainnya, akan kita split lagi menjadi validasi dan testing.\n",
        "# Rasio yang akan kita gunakan adalah 80:20\n",
        "df_train, df_unseen = train_test_split(df, test_size=0.2, random_state=42)\n",
        "\n",
        "# Split lagi antara validasi dan testing\n",
        "df_val, df_test = train_test_split(df_unseen, test_size=0.5, random_state=0)\n",
        "\n",
        "# Cek masing-masing ukuran data\n",
        "print(f'Jumlah data asli: {df.shape[0]}')\n",
        "print(f'Jumlah data train: {df_train.shape[0]}')\n",
        "print(f'Jumlah data val: {df_val.shape[0]}')\n",
        "print(f'Jumlah data test: {df_test.shape[0]}')"
      ],
      "metadata": {
        "id": "2JivnTxXK9WN",
        "outputId": "de67162a-a538-4395-8b24-4fe0e0bb8cbb",
        "colab": {
          "base_uri": "https://localhost:8080/"
        }
      },
      "execution_count": 27,
      "outputs": [
        {
          "output_type": "stream",
          "name": "stdout",
          "text": [
            "Jumlah data asli: 569\n",
            "Jumlah data train: 455\n",
            "Jumlah data val: 57\n",
            "Jumlah data test: 57\n"
          ]
        }
      ]
    }
  ]
}